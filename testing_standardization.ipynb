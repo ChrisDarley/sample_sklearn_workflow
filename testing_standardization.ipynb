{
 "cells": [
  {
   "cell_type": "code",
   "execution_count": 1,
   "metadata": {},
   "outputs": [],
   "source": [
    "import numpy as np\n",
    "import pandas as pd\n",
    "\n",
    "from sklearn.datasets import fetch_covtype\n",
    "from sklearn.model_selection import train_test_split\n",
    "from sklearn.ensemble import HistGradientBoostingClassifier\n",
    "from sklearn.model_selection import cross_val_score\n",
    "from sklearn.pipeline import Pipeline\n",
    "from sklearn.compose import ColumnTransformer\n",
    "from sklearn.preprocessing import StandardScaler"
   ]
  },
  {
   "cell_type": "code",
   "execution_count": 2,
   "metadata": {},
   "outputs": [],
   "source": [
    "X, y = fetch_covtype(as_frame=True, return_X_y=True)"
   ]
  },
  {
   "cell_type": "code",
   "execution_count": 3,
   "metadata": {},
   "outputs": [],
   "source": [
    "# splitting into train and test using a stratified split \n",
    "# and 80-20 train test split\n",
    "X_train, X_test, y_train, y_test = train_test_split(\n",
    "    X, y, test_size=0.2, stratify=y)"
   ]
  },
  {
   "cell_type": "code",
   "execution_count": 4,
   "metadata": {},
   "outputs": [],
   "source": [
    "# Describing the index of numerical and categorical variables\n",
    "num_vars = X.columns[:10]\n",
    "cat_vars = X.columns[10:]"
   ]
  },
  {
   "cell_type": "code",
   "execution_count": 5,
   "metadata": {},
   "outputs": [],
   "source": [
    "# Standard Scaling the numerical variables\n",
    "ct = ColumnTransformer(\n",
    "    [(\"num_transforms\", StandardScaler(), num_vars)],\n",
    "    remainder=\"passthrough\"\n",
    ")\n",
    "\n",
    "# clf is HistGradientBoostingClassifier with f1 scoring function\n",
    "clf = HistGradientBoostingClassifier(\n",
    "    categorical_features=X.columns.isin(cat_vars),\n",
    "    scoring=\"f1_macro\")\n",
    "\n",
    "# Combining the two steps into a pipeline\n",
    "pipe = Pipeline([(\"ct\",ct), (\"clf\", clf)])"
   ]
  },
  {
   "cell_type": "code",
   "execution_count": 6,
   "metadata": {},
   "outputs": [],
   "source": [
    "def run_experiment():\n",
    "    cv_averages = []\n",
    "    cv_scores = []\n",
    "    for i in range(5):\n",
    "        scores = cross_val_score(\n",
    "            X=X_train, y=y_train, estimator=pipe, scoring=\"f1_macro\")\n",
    "        cv_averages.append(scores.mean())\n",
    "        cv_scores.append(scores)\n",
    "    return cv_scores, cv_averages"
   ]
  },
  {
   "cell_type": "code",
   "execution_count": 7,
   "metadata": {},
   "outputs": [],
   "source": [
    "cv_scores, cv_averages = run_experiment()"
   ]
  },
  {
   "cell_type": "code",
   "execution_count": 8,
   "metadata": {},
   "outputs": [
    {
     "name": "stdout",
     "output_type": "stream",
     "text": [
      "[array([0.79252341, 0.76266617, 0.77632387, 0.80449326, 0.78665425]), array([0.79931958, 0.79024963, 0.81590209, 0.76501809, 0.80516795]), array([0.80715163, 0.79744009, 0.76939637, 0.79065708, 0.70418191]), array([0.79353929, 0.775817  , 0.7890802 , 0.80506303, 0.76791821]), array([0.77130779, 0.72049248, 0.7618449 , 0.80157026, 0.78085121])] \n",
      "\n",
      "[0.7845321899106545, 0.7951314695949857, 0.7737654180435584, 0.7862835453658885, 0.7672133266200335] \n",
      "\n",
      "Average score of 5 rounds of cv training:  0.7813851899070242\n"
     ]
    }
   ],
   "source": [
    "print(cv_scores, \"\\n\")\n",
    "print(cv_averages, \"\\n\")\n",
    "print(\"Average score of 5 rounds of cv training: \", pd.Series(cv_averages).mean())"
   ]
  },
  {
   "cell_type": "code",
   "execution_count": 1,
   "metadata": {},
   "outputs": [],
   "source": [
    "# On average, standard scaling the numerical features resulted in an average decrease in f1\n",
    "# score of 0.9.  However, I still want to see see how standard scaling effects dimension \n",
    "# reduction."
   ]
  }
 ],
 "metadata": {
  "kernelspec": {
   "display_name": "Python 3.10.6 ('env': venv)",
   "language": "python",
   "name": "python3"
  },
  "language_info": {
   "codemirror_mode": {
    "name": "ipython",
    "version": 3
   },
   "file_extension": ".py",
   "mimetype": "text/x-python",
   "name": "python",
   "nbconvert_exporter": "python",
   "pygments_lexer": "ipython3",
   "version": "3.10.6"
  },
  "orig_nbformat": 4,
  "vscode": {
   "interpreter": {
    "hash": "d6b2050d100e380759ce3d4ef7a2ac2ec1f5544b9522aebe8e331f72d091099b"
   }
  }
 },
 "nbformat": 4,
 "nbformat_minor": 2
}
