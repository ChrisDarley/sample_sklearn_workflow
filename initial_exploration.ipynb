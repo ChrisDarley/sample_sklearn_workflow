{
 "cells": [
  {
   "cell_type": "code",
   "execution_count": 1,
   "metadata": {},
   "outputs": [],
   "source": [
    "import numpy as np\n",
    "import pandas as pd\n",
    "\n",
    "from sklearn.datasets import fetch_covtype\n",
    "from sklearn.model_selection import train_test_split\n",
    "from sklearn.ensemble import HistGradientBoostingClassifier\n",
    "from sklearn.model_selection import cross_val_score\n",
    "\n",
    "import mlflow\n",
    "from mlflow import MlflowClient"
   ]
  },
  {
   "cell_type": "code",
   "execution_count": 2,
   "metadata": {},
   "outputs": [],
   "source": [
    "X, y = fetch_covtype(as_frame=True, return_X_y=True)"
   ]
  },
  {
   "cell_type": "code",
   "execution_count": 3,
   "metadata": {},
   "outputs": [
    {
     "data": {
      "text/plain": [
       "2    283301\n",
       "1    211840\n",
       "3     35754\n",
       "7     20510\n",
       "6     17367\n",
       "5      9493\n",
       "4      2747\n",
       "Name: Cover_Type, dtype: int64"
      ]
     },
     "execution_count": 3,
     "metadata": {},
     "output_type": "execute_result"
    }
   ],
   "source": [
    "# dataset is highly unbalanced\n",
    "y.value_counts()"
   ]
  },
  {
   "cell_type": "code",
   "execution_count": 4,
   "metadata": {},
   "outputs": [],
   "source": [
    "# splitting into train and test using a stratified split \n",
    "# and 80-20 train test split\n",
    "X_train, X_test, y_train, y_test = train_test_split(\n",
    "    X, y, test_size=0.2, stratify=y)"
   ]
  },
  {
   "cell_type": "code",
   "execution_count": 5,
   "metadata": {},
   "outputs": [
    {
     "data": {
      "text/plain": [
       "0"
      ]
     },
     "execution_count": 5,
     "metadata": {},
     "output_type": "execute_result"
    }
   ],
   "source": [
    "# there are no missing values anywhere in the train dataset\n",
    "X_train.isna().sum().sum()"
   ]
  },
  {
   "cell_type": "code",
   "execution_count": 6,
   "metadata": {},
   "outputs": [],
   "source": [
    "# Describing the index of numerical and categorical variables\n",
    "num_vars = X.columns[:10]\n",
    "cat_vars = X.columns[10:]"
   ]
  },
  {
   "cell_type": "code",
   "execution_count": 7,
   "metadata": {},
   "outputs": [],
   "source": [
    "# With no preprocessing, we will use the hist gradient boosting\n",
    "# # classifier, macro f1 score, and declaration of categorical columns.\n",
    "clf = HistGradientBoostingClassifier(\n",
    "    categorical_features=X.columns.isin(cat_vars),\n",
    "    scoring=\"f1_macro\")"
   ]
  },
  {
   "cell_type": "code",
   "execution_count": 8,
   "metadata": {},
   "outputs": [],
   "source": [
    "\n",
    "def run_experiment():\n",
    "    cv_averages = []\n",
    "    cv_scores = []\n",
    "    for i in range(5):\n",
    "        scores = cross_val_score(\n",
    "            X=X_train, y=y_train, estimator=clf, scoring=\"f1_macro\")\n",
    "        cv_averages.append(scores.mean())\n",
    "        cv_scores.append(scores)\n",
    "    return cv_scores, cv_averages"
   ]
  },
  {
   "cell_type": "code",
   "execution_count": 9,
   "metadata": {},
   "outputs": [],
   "source": [
    "cv_scores, cv_averages = run_experiment()"
   ]
  },
  {
   "cell_type": "code",
   "execution_count": 10,
   "metadata": {},
   "outputs": [
    {
     "name": "stdout",
     "output_type": "stream",
     "text": [
      "[array([0.78188437, 0.80132189, 0.76507944, 0.77617789, 0.79542934]), array([0.80110331, 0.78870969, 0.79602936, 0.80032378, 0.79809197]), array([0.79716197, 0.72159867, 0.80388484, 0.78116982, 0.79176789]), array([0.78644979, 0.7867932 , 0.80638133, 0.79379137, 0.80154862]), array([0.77333496, 0.79509077, 0.80085506, 0.80531761, 0.8022977 ])] \n",
      "\n",
      "[0.7839785860179983, 0.7968516214772802, 0.7791166374545603, 0.7949928603866416, 0.7953792211966233] \n",
      "\n",
      "Average score of 5 rounds of cv training:  0.7900637853066208\n"
     ]
    }
   ],
   "source": [
    "\n",
    "print(cv_scores, \"\\n\")\n",
    "print(cv_averages, \"\\n\")\n",
    "print(\"Average score of 5 rounds of cv training: \", pd.Series(cv_averages).mean())"
   ]
  },
  {
   "cell_type": "code",
   "execution_count": null,
   "metadata": {},
   "outputs": [],
   "source": []
  }
 ],
 "metadata": {
  "kernelspec": {
   "display_name": "Python 3.10.6 ('env': venv)",
   "language": "python",
   "name": "python3"
  },
  "language_info": {
   "codemirror_mode": {
    "name": "ipython",
    "version": 3
   },
   "file_extension": ".py",
   "mimetype": "text/x-python",
   "name": "python",
   "nbconvert_exporter": "python",
   "pygments_lexer": "ipython3",
   "version": "3.10.6"
  },
  "orig_nbformat": 4,
  "vscode": {
   "interpreter": {
    "hash": "d6b2050d100e380759ce3d4ef7a2ac2ec1f5544b9522aebe8e331f72d091099b"
   }
  }
 },
 "nbformat": 4,
 "nbformat_minor": 2
}
