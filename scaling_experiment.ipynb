{
 "cells": [
  {
   "cell_type": "code",
   "execution_count": 1,
   "metadata": {},
   "outputs": [],
   "source": [
    "import numpy as np\n",
    "import pandas as pd\n",
    "\n",
    "from sklearn.datasets import fetch_covtype\n",
    "from sklearn.model_selection import train_test_split\n",
    "from sklearn.ensemble import HistGradientBoostingClassifier\n",
    "from sklearn.model_selection import cross_val_score\n",
    "from sklearn.pipeline import Pipeline\n",
    "from sklearn.compose import ColumnTransformer\n",
    "from sklearn.preprocessing import StandardScaler, MinMaxScaler\n",
    "from sklearn.model_selection import GridSearchCV"
   ]
  },
  {
   "cell_type": "code",
   "execution_count": 2,
   "metadata": {},
   "outputs": [],
   "source": [
    "X, y = fetch_covtype(as_frame=True, return_X_y=True)"
   ]
  },
  {
   "cell_type": "code",
   "execution_count": 3,
   "metadata": {},
   "outputs": [],
   "source": [
    "# splitting into train and test using a stratified split \n",
    "# and 80-20 train test split\n",
    "X_train, X_test, y_train, y_test = train_test_split(\n",
    "    X, y, test_size=0.2, stratify=y)"
   ]
  },
  {
   "cell_type": "code",
   "execution_count": 4,
   "metadata": {},
   "outputs": [],
   "source": [
    "# Describing the index of numerical and categorical variables\n",
    "num_vars = X.columns[:10]\n",
    "cat_vars = X.columns[10:]"
   ]
  },
  {
   "cell_type": "code",
   "execution_count": 5,
   "metadata": {},
   "outputs": [],
   "source": [
    "# Standard Scaling the numerical variables\n",
    "ct = ColumnTransformer(\n",
    "    [(\"Scaler\", StandardScaler(), num_vars)],\n",
    "    remainder=\"passthrough\"\n",
    ")\n",
    "\n",
    "# clf is HistGradientBoostingClassifier with f1 scoring function\n",
    "clf = HistGradientBoostingClassifier(\n",
    "    categorical_features=X.columns.isin(cat_vars),\n",
    "    scoring=\"f1_macro\")\n",
    "\n",
    "# Combining the two steps into a pipeline\n",
    "pipe = Pipeline([(\"ct\",ct), (\"clf\", clf)])"
   ]
  },
  {
   "cell_type": "code",
   "execution_count": 6,
   "metadata": {},
   "outputs": [],
   "source": [
    "param_grid = {\"ct__Scaler\":[StandardScaler(), MinMaxScaler()]}"
   ]
  },
  {
   "cell_type": "code",
   "execution_count": 12,
   "metadata": {},
   "outputs": [],
   "source": [
    "def run_experiment():    \n",
    "\n",
    "    mean_scores = []\n",
    "    for i in range(5):\n",
    "        output = GridSearchCV(estimator=pipe, param_grid=param_grid, scoring=\"f1_macro\")\n",
    "        output.fit(X_train, y_train)\n",
    "        results = output.cv_results_\n",
    "        mean_scores.append(results[\"mean_test_score\"])\n",
    "    return mean_scores, results"
   ]
  },
  {
   "cell_type": "code",
   "execution_count": 13,
   "metadata": {},
   "outputs": [],
   "source": [
    "mean_scores, results = run_experiment()"
   ]
  },
  {
   "cell_type": "code",
   "execution_count": 27,
   "metadata": {},
   "outputs": [],
   "source": [
    "mean_scores = pd.DataFrame(mean_scores, columns=[\"StandardScaler\", \"MinMaxScaler\"])"
   ]
  },
  {
   "cell_type": "code",
   "execution_count": 32,
   "metadata": {},
   "outputs": [
    {
     "data": {
      "text/html": [
       "<div>\n",
       "<style scoped>\n",
       "    .dataframe tbody tr th:only-of-type {\n",
       "        vertical-align: middle;\n",
       "    }\n",
       "\n",
       "    .dataframe tbody tr th {\n",
       "        vertical-align: top;\n",
       "    }\n",
       "\n",
       "    .dataframe thead th {\n",
       "        text-align: right;\n",
       "    }\n",
       "</style>\n",
       "<table border=\"1\" class=\"dataframe\">\n",
       "  <thead>\n",
       "    <tr style=\"text-align: right;\">\n",
       "      <th></th>\n",
       "      <th>StandardScaler</th>\n",
       "      <th>MinMaxScaler</th>\n",
       "    </tr>\n",
       "  </thead>\n",
       "  <tbody>\n",
       "    <tr>\n",
       "      <th>0</th>\n",
       "      <td>0.797355</td>\n",
       "      <td>0.789224</td>\n",
       "    </tr>\n",
       "    <tr>\n",
       "      <th>1</th>\n",
       "      <td>0.783729</td>\n",
       "      <td>0.791003</td>\n",
       "    </tr>\n",
       "    <tr>\n",
       "      <th>2</th>\n",
       "      <td>0.793423</td>\n",
       "      <td>0.803929</td>\n",
       "    </tr>\n",
       "    <tr>\n",
       "      <th>3</th>\n",
       "      <td>0.801027</td>\n",
       "      <td>0.795642</td>\n",
       "    </tr>\n",
       "    <tr>\n",
       "      <th>4</th>\n",
       "      <td>0.787340</td>\n",
       "      <td>0.791769</td>\n",
       "    </tr>\n",
       "  </tbody>\n",
       "</table>\n",
       "</div>"
      ],
      "text/plain": [
       "   StandardScaler  MinMaxScaler\n",
       "0        0.797355      0.789224\n",
       "1        0.783729      0.791003\n",
       "2        0.793423      0.803929\n",
       "3        0.801027      0.795642\n",
       "4        0.787340      0.791769"
      ]
     },
     "execution_count": 32,
     "metadata": {},
     "output_type": "execute_result"
    }
   ],
   "source": [
    "mean_scores"
   ]
  },
  {
   "cell_type": "code",
   "execution_count": 29,
   "metadata": {},
   "outputs": [
    {
     "data": {
      "text/plain": [
       "StandardScaler    0.792575\n",
       "MinMaxScaler      0.794313\n",
       "dtype: float64"
      ]
     },
     "execution_count": 29,
     "metadata": {},
     "output_type": "execute_result"
    }
   ],
   "source": [
    "mean_scores.mean()"
   ]
  },
  {
   "cell_type": "code",
   "execution_count": 33,
   "metadata": {},
   "outputs": [],
   "source": [
    "# An experiment with five trials of gridsearchcv shows that MinMaxScaler is a tiny more \n",
    "# efficient than StandardScaler, and both are a tiny bit more accurate than no scaling at\n",
    "# all.  However, I will have to test both techniques in combination with feature\n",
    "# reduction techniques to truly see which is better."
   ]
  }
 ],
 "metadata": {
  "kernelspec": {
   "display_name": "Python 3.10.6 ('env': venv)",
   "language": "python",
   "name": "python3"
  },
  "language_info": {
   "codemirror_mode": {
    "name": "ipython",
    "version": 3
   },
   "file_extension": ".py",
   "mimetype": "text/x-python",
   "name": "python",
   "nbconvert_exporter": "python",
   "pygments_lexer": "ipython3",
   "version": "3.10.6"
  },
  "orig_nbformat": 4,
  "vscode": {
   "interpreter": {
    "hash": "d6b2050d100e380759ce3d4ef7a2ac2ec1f5544b9522aebe8e331f72d091099b"
   }
  }
 },
 "nbformat": 4,
 "nbformat_minor": 2
}
